{
 "cells": [
  {
   "cell_type": "code",
   "execution_count": 12,
   "metadata": {},
   "outputs": [],
   "source": [
    "# DATA PRE PROCESSING #"
   ]
  },
  {
   "cell_type": "code",
   "execution_count": 1,
   "metadata": {},
   "outputs": [
    {
     "name": "stdout",
     "output_type": "stream",
     "text": [
      "Note: total_earnings values were scaled by multiplying by 0.0000036968 and adding -0.115913\n"
     ]
    }
   ],
   "source": [
    "# IMPORTING LIBRARIES \n",
    "\n",
    "import pandas as pd\n",
    "from sklearn.preprocessing import MinMaxScaler\n",
    "\n",
    "# LOADING TRAINING AND TEST DATA\n",
    "\n",
    "training_data_df = pd.read_csv('sales_data_training.csv')\n",
    "test_data_df  = pd.read_csv('sales_data_test.csv')\n",
    "\n",
    "# Now we will call 'scaler' from sk learn to scale all values between 0-1 for best results, and fit this scaler to the train\n",
    "# and test data\n",
    "\n",
    "scaler = MinMaxScaler(feature_range =  (0,1))\n",
    "\n",
    "scaled_training = scaler.fit_transform(training_data_df)\n",
    "\n",
    "#used transfrom instead of fir_transform so that scaler applies the same amount on both\n",
    "\n",
    "scaled_testing = scaler.transform(test_data_df) \n",
    "\n",
    "# Print out the adjustment that the scaler applied to the total_earnings column of data\n",
    "print(\"Note: total_earnings values were scaled by multiplying by {:.10f} and adding {:.6f}\".format(scaler.scale_[8], scaler.min_[8]))\n",
    "\n",
    "# Now creating new pandas dataframe objects from scaled data\n",
    "\n",
    "scaled_training_data_df = pd.DataFrame(scaled_training,columns=training_data_df.columns.values)\n",
    "scaled_testing_data_df = pd.DataFrame(scaled_testing,columns=test_data_df.columns.values)\n",
    "\n",
    "# Saving scaled dataframe to csv-file format \n",
    "\n",
    "scaled_training_data_df.to_csv('sales_data_training_scaled.csv',index = False)\n",
    "scaled_testing_data_df.to_csv('sales_data_testing_scaled.csv', index = False)\n",
    "\n"
   ]
  },
  {
   "cell_type": "code",
   "execution_count": 8,
   "metadata": {},
   "outputs": [],
   "source": []
  },
  {
   "cell_type": "code",
   "execution_count": null,
   "metadata": {},
   "outputs": [],
   "source": []
  }
 ],
 "metadata": {
  "kernelspec": {
   "display_name": "Python 3",
   "language": "python",
   "name": "python3"
  },
  "language_info": {
   "codemirror_mode": {
    "name": "ipython",
    "version": 3
   },
   "file_extension": ".py",
   "mimetype": "text/x-python",
   "name": "python",
   "nbconvert_exporter": "python",
   "pygments_lexer": "ipython3",
   "version": "3.7.7"
  }
 },
 "nbformat": 4,
 "nbformat_minor": 4
}
