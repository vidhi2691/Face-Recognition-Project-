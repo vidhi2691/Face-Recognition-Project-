{
 "cells": [
  {
   "cell_type": "code",
   "execution_count": 14,
   "metadata": {},
   "outputs": [
    {
     "name": "stdout",
     "output_type": "stream",
     "text": [
      "This is image is a Car - Likelihood: 0.713018\n"
     ]
    }
   ],
   "source": [
    "from keras.models import model_from_json\n",
    "from pathlib import Path\n",
    "from keras.preprocessing import image\n",
    "import numpy as np\n",
    "\n",
    "# These are the CIFAR10 class labels from the training data (in order from 0 to 9)\n",
    "class_labels = [\n",
    "    \"Plane\",\n",
    "    \"Car\",\n",
    "    \"Bird\",\n",
    "    \"Cat\",\n",
    "    \"Deer\",\n",
    "    \"Dog\",\n",
    "    \"Frog\",\n",
    "    \"Horse\",\n",
    "    \"Boat\",\n",
    "    \"Truck\"\n",
    "]\n",
    "\n",
    "# Loading the json file that contains the model's structure\n",
    "\n",
    "f = Path(\"model_structure.json\")\n",
    "model_structure = f.read_text()\n",
    "\n",
    "# Recreating the Keras model object from the json data\n",
    "\n",
    "model = model_from_json(model_structure)\n",
    "\n",
    "# Now Re-loading the model's trained weights\n",
    "\n",
    "model.load_weights(\"model_weights.h5\")\n",
    "\n",
    "# Load an image file to test, resizing it to 32x32 pixels (as required by this model)\n",
    "\n",
    "img = image.load_img(\"car.png\", target_size=(32, 32))\n",
    "\n",
    "# Convert the image to a numpy array so that we can feed it to our neural network\n",
    "# Deviding with 255 to normalize test imgage value between 0 and 1\n",
    "\n",
    "image_to_test = image.img_to_array(img)/255\n",
    "\n",
    "# Adding a fourth dimension to the image (since Keras expects a list of images, not a single image)\n",
    "\n",
    "list_of_images = np.expand_dims(image_to_test, axis=0)\n",
    "\n",
    "# Makeing prediction using the model\n",
    "\n",
    "results = model.predict(list_of_images)\n",
    "\n",
    "# Since we are only testing one image, therefore we only need to check the first result\n",
    "\n",
    "single_result = results[0]\n",
    "\n",
    "# Getting likelihood score for all 10 possible classes. Also finding out which class had the highest score.\n",
    "\n",
    "most_likely_class_index = int(np.argmax(single_result))\n",
    "class_likelihood = single_result[most_likely_class_index]\n",
    "\n",
    "# Get the name of the most likely class\n",
    "class_label = class_labels[most_likely_class_index]\n",
    "\n",
    "# Print the result\n",
    "print(\"This is image is a {} - Likelihood: {:2f}\".format(class_label, class_likelihood))"
   ]
  },
  {
   "cell_type": "code",
   "execution_count": null,
   "metadata": {},
   "outputs": [],
   "source": []
  }
 ],
 "metadata": {
  "kernelspec": {
   "display_name": "Python 3",
   "language": "python",
   "name": "python3"
  },
  "language_info": {
   "codemirror_mode": {
    "name": "ipython",
    "version": 3
   },
   "file_extension": ".py",
   "mimetype": "text/x-python",
   "name": "python",
   "nbconvert_exporter": "python",
   "pygments_lexer": "ipython3",
   "version": "3.7.7"
  }
 },
 "nbformat": 4,
 "nbformat_minor": 4
}
