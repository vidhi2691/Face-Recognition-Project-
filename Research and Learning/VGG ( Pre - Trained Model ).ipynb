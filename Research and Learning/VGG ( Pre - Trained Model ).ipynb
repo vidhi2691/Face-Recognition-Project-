{
 "cells": [
  {
   "cell_type": "code",
   "execution_count": 4,
   "metadata": {},
   "outputs": [
    {
     "name": "stdout",
     "output_type": "stream",
     "text": [
      "Top predictions for this image:\n",
      "Prediction: speedboat - 0.562158\n",
      "Prediction: submarine - 0.198297\n",
      "Prediction: lifeboat - 0.190833\n",
      "Prediction: container_ship - 0.019950\n",
      "Prediction: fireboat - 0.008907\n"
     ]
    }
   ],
   "source": [
    "import numpy as np\n",
    "from keras.preprocessing import image\n",
    "from keras.applications import vgg16\n",
    "\n",
    "# Loaingd Keras' VGG16 model that was pre-trained against the ImageNet database\n",
    "\n",
    "model = vgg16.VGG16()\n",
    "\n",
    "# Load the image file, resizing it to 224x224 pixels (required by this model)\n",
    "\n",
    "img = image.load_img(\"boaaaat.jpg\", target_size=(224, 224))\n",
    "\n",
    "# Converting the image to a numpy array\n",
    "\n",
    "x = image.img_to_array(img)\n",
    "\n",
    "# Adding fourth dimension, since Keras expects a list of images\n",
    "\n",
    "x = np.expand_dims(x, axis=0)\n",
    "\n",
    "# Now Normalize the input image's pixel values to the range (btw 0-1) used when training the neural network\n",
    "\n",
    "x = vgg16.preprocess_input(x)\n",
    "\n",
    "# Running the image through the deep neural network to make a prediction\n",
    "\n",
    "predictions = model.predict(x)\n",
    "\n",
    "# Looking up the names of the predicted classes. Index zero is the results for the first image.\n",
    "\n",
    "predicted_classes = vgg16.decode_predictions(predictions)\n",
    "\n",
    "print(\"Top predictions for this image:\")\n",
    "\n",
    "for imagenet_id, name, likelihood in predicted_classes[0]:\n",
    "    print(\"Prediction: {} - {:2f}\".format(name, likelihood))\n",
    "\n"
   ]
  },
  {
   "cell_type": "code",
   "execution_count": null,
   "metadata": {},
   "outputs": [],
   "source": []
  }
 ],
 "metadata": {
  "kernelspec": {
   "display_name": "Python 3",
   "language": "python",
   "name": "python3"
  },
  "language_info": {
   "codemirror_mode": {
    "name": "ipython",
    "version": 3
   },
   "file_extension": ".py",
   "mimetype": "text/x-python",
   "name": "python",
   "nbconvert_exporter": "python",
   "pygments_lexer": "ipython3",
   "version": "3.7.7"
  }
 },
 "nbformat": 4,
 "nbformat_minor": 4
}
